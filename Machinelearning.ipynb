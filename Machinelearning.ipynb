{
  "nbformat": 4,
  "nbformat_minor": 0,
  "metadata": {
    "colab": {
      "name": "Machinelearning",
      "version": "0.3.2",
      "provenance": [],
      "collapsed_sections": [
        "nf6ifZ7bnGg1"
      ],
      "include_colab_link": true
    },
    "kernelspec": {
      "name": "python3",
      "display_name": "Python 3"
    }
  },
  "cells": [
    {
      "cell_type": "markdown",
      "metadata": {
        "id": "view-in-github",
        "colab_type": "text"
      },
      "source": [
        "<a href=\"https://colab.research.google.com/github/ChangappaMA/PyNLPTut/blob/master/Machinelearning.ipynb\" target=\"_parent\"><img src=\"https://colab.research.google.com/assets/colab-badge.svg\" alt=\"Open In Colab\"/></a>"
      ]
    },
    {
      "cell_type": "markdown",
      "metadata": {
        "id": "nf6ifZ7bnGg1",
        "colab_type": "text"
      },
      "source": [
        "# Day1"
      ]
    },
    {
      "cell_type": "markdown",
      "metadata": {
        "id": "_g4ZnfVH6YfH",
        "colab_type": "text"
      },
      "source": [
        ""
      ]
    },
    {
      "cell_type": "code",
      "metadata": {
        "id": "uDJigOM66bw7",
        "colab_type": "code",
        "outputId": "13dca286-d052-4485-9f80-da4941c37d81",
        "colab": {
          "base_uri": "https://localhost:8080/",
          "height": 52
        }
      },
      "source": [
        "L1 =[2,4,6,8,10]\n",
        "L2 =[1,3,5,7,9]\n",
        "\n",
        "Sum = []\n",
        "mul = []\n",
        "\n",
        "for i in range(0,5):\n",
        "  Sum.append(L1[i]+L2[i])\n",
        "  mul.append(L2[i]*2)\n",
        "\n",
        "print (Sum)\n",
        "print (mul)\n"
      ],
      "execution_count": 0,
      "outputs": [
        {
          "output_type": "stream",
          "text": [
            "[3, 7, 11, 15, 19]\n",
            "[2, 6, 10, 14, 18]\n"
          ],
          "name": "stdout"
        }
      ]
    },
    {
      "cell_type": "code",
      "metadata": {
        "id": "rN_s49Oy_sht",
        "colab_type": "code",
        "outputId": "ff297e2c-2f61-4d34-b9e2-2a54bdb38144",
        "colab": {
          "base_uri": "https://localhost:8080/",
          "height": 105
        }
      },
      "source": [
        "angles = []\n",
        "subangles=[]\n",
        "\n",
        "\n",
        "\n",
        "for i in range(0, 390, 30):\n",
        "  angles.append(i)\n",
        "  \n",
        "subangles = angles[:].reverse()\n",
        "\n",
        "print(angles)\n",
        "print(subangles)\n",
        "i1 = angles.index(90)\n",
        "i2 = angles.index(270)\n",
        "print(i1,i2)\n",
        "\n",
        "lenangles = len(angles)\n",
        "print(lenangles)\n",
        "\n",
        "i1_rev = lenangles - i1\n",
        "i2_rev = lenangles - i2\n",
        "print(i1_rev, i2_rev)\n",
        "  \n",
        "  \n"
      ],
      "execution_count": 0,
      "outputs": [
        {
          "output_type": "stream",
          "text": [
            "[0, 30, 60, 90, 120, 150, 180, 210, 240, 270, 300, 330, 360]\n",
            "None\n",
            "3 9\n",
            "13\n",
            "10 4\n"
          ],
          "name": "stdout"
        }
      ]
    },
    {
      "cell_type": "code",
      "metadata": {
        "id": "7V_VbScfeCMP",
        "colab_type": "code",
        "outputId": "a9e53f74-4bf6-425e-bbf4-6939614b9cad",
        "colab": {
          "base_uri": "https://localhost:8080/",
          "height": 70
        }
      },
      "source": [
        "L1 = [2,4,6,8,10]\n",
        "\n",
        "L2 = L1\n",
        "L3 = L1.copy()\n",
        "\n",
        "del L3[2]\n",
        "\n",
        "print(L1)\n",
        "print(L3)\n"
      ],
      "execution_count": 0,
      "outputs": [
        {
          "output_type": "stream",
          "text": [
            "[2, 4, 6, 8, 10]\n",
            "[2, 4, 8, 10]\n"
          ],
          "name": "stdout"
        },
        {
          "output_type": "execute_result",
          "data": {
            "text/plain": [
              "<function abs>"
            ]
          },
          "metadata": {
            "tags": []
          },
          "execution_count": 51
        }
      ]
    },
    {
      "cell_type": "code",
      "metadata": {
        "id": "oBYystRenaK7",
        "colab_type": "code",
        "colab": {}
      },
      "source": [
        "import numpy as py\n",
        "import tensorflow as tf\n",
        "#import pytorch"
      ],
      "execution_count": 0,
      "outputs": []
    },
    {
      "cell_type": "code",
      "metadata": {
        "id": "ZMsKnxcqoqXW",
        "colab_type": "code",
        "outputId": "775c49ca-3f16-46fd-a47f-c604985825e5",
        "colab": {
          "base_uri": "https://localhost:8080/",
          "height": 220
        }
      },
      "source": [
        "examTuple = (1,2,3)\n",
        "\n",
        "examTuple += (4,)\n",
        "del examTuple[2]\n",
        "print(examTuple)"
      ],
      "execution_count": 0,
      "outputs": [
        {
          "output_type": "error",
          "ename": "TypeError",
          "evalue": "ignored",
          "traceback": [
            "\u001b[0;31m---------------------------------------------------------------------------\u001b[0m",
            "\u001b[0;31mTypeError\u001b[0m                                 Traceback (most recent call last)",
            "\u001b[0;32m<ipython-input-61-171b69341cf1>\u001b[0m in \u001b[0;36m<module>\u001b[0;34m()\u001b[0m\n\u001b[1;32m      2\u001b[0m \u001b[0;34m\u001b[0m\u001b[0m\n\u001b[1;32m      3\u001b[0m \u001b[0mexamTuple\u001b[0m \u001b[0;34m+=\u001b[0m \u001b[0;34m(\u001b[0m\u001b[0;36m4\u001b[0m\u001b[0;34m,\u001b[0m\u001b[0;34m)\u001b[0m\u001b[0;34m\u001b[0m\u001b[0;34m\u001b[0m\u001b[0m\n\u001b[0;32m----> 4\u001b[0;31m \u001b[0;32mdel\u001b[0m \u001b[0mexamTuple\u001b[0m\u001b[0;34m[\u001b[0m\u001b[0;36m2\u001b[0m\u001b[0;34m]\u001b[0m\u001b[0;34m\u001b[0m\u001b[0;34m\u001b[0m\u001b[0m\n\u001b[0m\u001b[1;32m      5\u001b[0m \u001b[0mprint\u001b[0m\u001b[0;34m(\u001b[0m\u001b[0mexamTuple\u001b[0m\u001b[0;34m)\u001b[0m\u001b[0;34m\u001b[0m\u001b[0;34m\u001b[0m\u001b[0m\n",
            "\u001b[0;31mTypeError\u001b[0m: 'tuple' object doesn't support item deletion"
          ]
        }
      ]
    },
    {
      "cell_type": "code",
      "metadata": {
        "id": "KMiIWA26yHCV",
        "colab_type": "code",
        "outputId": "eeb5897d-5fd1-4b3d-e0ae-89aeb1fe5b44",
        "colab": {
          "base_uri": "https://localhost:8080/",
          "height": 52
        }
      },
      "source": [
        "States = {'Andhra Pradesh' : [4900000, 'Hydrabad', True], 'Assam' : [50000, 'Dispur', False], 'Bihar': [600000, 'Patna', True]}\n",
        "\n",
        "print(States['Bihar'])\n",
        "\n",
        "States['Telangana'] = [500000, 'Hydrabad', False]\n",
        "\n",
        "print(States)\n"
      ],
      "execution_count": 0,
      "outputs": [
        {
          "output_type": "stream",
          "text": [
            "[600000, 'Patna', True]\n",
            "{'Andhra Pradesh': [4900000, 'Hydrabad', True], 'Assam': [50000, 'Dispur', False], 'Bihar': [600000, 'Patna', True], 'Telangana': [500000, 'Hydrabad', False]}\n"
          ],
          "name": "stdout"
        }
      ]
    },
    {
      "cell_type": "code",
      "metadata": {
        "id": "n5Q2esCu9XCd",
        "colab_type": "code",
        "outputId": "e1a4d779-294f-4c09-906f-1cdd1a5fe7b0",
        "colab": {
          "base_uri": "https://localhost:8080/",
          "height": 52
        }
      },
      "source": [
        "def deg_rad(angle):\n",
        "  radians = (angle * 3.14) / 180\n",
        "  return (radians)\n",
        "\n",
        "\n",
        "\n",
        "print(deg_rad(360))\n",
        "\n",
        "deg_rad_inline = lambda angle,rotate: angle/180*3.14+rotate\n",
        "\n",
        "deg_rad_inline(30, deg_rad(90))\n"
      ],
      "execution_count": 0,
      "outputs": [
        {
          "output_type": "stream",
          "text": [
            "6.28\n"
          ],
          "name": "stdout"
        },
        {
          "output_type": "execute_result",
          "data": {
            "text/plain": [
              "2.0933333333333333"
            ]
          },
          "metadata": {
            "tags": []
          },
          "execution_count": 102
        }
      ]
    },
    {
      "cell_type": "code",
      "metadata": {
        "id": "iBDfu4SonFMz",
        "colab_type": "code",
        "colab": {}
      },
      "source": [
        "print(\"Hello World\")"
      ],
      "execution_count": 0,
      "outputs": []
    },
    {
      "cell_type": "markdown",
      "metadata": {
        "id": "8VeRMhYlm_kH",
        "colab_type": "text"
      },
      "source": [
        "# Day 2"
      ]
    },
    {
      "cell_type": "code",
      "metadata": {
        "id": "vz7HbhBxnBKK",
        "colab_type": "code",
        "colab": {
          "base_uri": "https://localhost:8080/",
          "height": 52
        },
        "outputId": "8c91d051-d7b5-4f94-f2a6-2582c50f767d"
      },
      "source": [
        "def deg_rad(angle):\n",
        "  radians = (angle * 3.14) / 180\n",
        "  return (radians)\n",
        "\n",
        "rad_angles=[]\n",
        "q2_angles=[]\n",
        "for a in [30,60,90]:\n",
        "  rad_angles.append(deg_rad(a))\n",
        "  \n",
        "for a in [120,150,180]:\n",
        "  q2_angles.append(deg_rad(a))\n",
        "  \n",
        "print (rad_angles)\n",
        "print (q2_angles)"
      ],
      "execution_count": 1,
      "outputs": [
        {
          "output_type": "stream",
          "text": [
            "[0.5233333333333333, 1.0466666666666666, 1.57]\n",
            "[2.0933333333333333, 2.6166666666666667, 3.14]\n"
          ],
          "name": "stdout"
        }
      ]
    },
    {
      "cell_type": "code",
      "metadata": {
        "id": "EIkUCtjaoy8H",
        "colab_type": "code",
        "colab": {
          "base_uri": "https://localhost:8080/",
          "height": 175
        },
        "outputId": "bdc45333-1296-4efa-fb03-8dac3b611283"
      },
      "source": [
        "import numpy as np\n",
        "\n",
        "a = np.array([1,2,3])\n",
        "b = np.array([[1,2,3],[4,5,6]])\n",
        "z = np.zeros((3,4))\n",
        "e = np.eye(3)\n",
        "\n",
        "print(a)\n",
        "print(b)\n",
        "print(z)\n",
        "print(e)"
      ],
      "execution_count": 2,
      "outputs": [
        {
          "output_type": "stream",
          "text": [
            "[1 2 3]\n",
            "[[1 2 3]\n",
            " [4 5 6]]\n",
            "[[0. 0. 0. 0.]\n",
            " [0. 0. 0. 0.]\n",
            " [0. 0. 0. 0.]]\n",
            "[[1. 0. 0.]\n",
            " [0. 1. 0.]\n",
            " [0. 0. 1.]]\n"
          ],
          "name": "stdout"
        }
      ]
    },
    {
      "cell_type": "code",
      "metadata": {
        "id": "-88FGs-Rsi7V",
        "colab_type": "code",
        "colab": {
          "base_uri": "https://localhost:8080/",
          "height": 756
        },
        "outputId": "741395c1-66e7-41c8-bb71-45c682d917d6"
      },
      "source": [
        "import numpy as np\n",
        "from sklearn import datasets\n",
        "iris = datasets.load_iris()\n",
        "x = iris.data\n",
        "print (x.shape , x.ndim)\n",
        "\n",
        "\n",
        "\n",
        "Xsub = np.array([a[2:] for a in x[100:140]])\n",
        "print (Xsub)\n",
        "print (Xsub.shape)\n",
        "\n"
      ],
      "execution_count": 31,
      "outputs": [
        {
          "output_type": "stream",
          "text": [
            "(150, 4) 2\n",
            "[[6.  2.5]\n",
            " [5.1 1.9]\n",
            " [5.9 2.1]\n",
            " [5.6 1.8]\n",
            " [5.8 2.2]\n",
            " [6.6 2.1]\n",
            " [4.5 1.7]\n",
            " [6.3 1.8]\n",
            " [5.8 1.8]\n",
            " [6.1 2.5]\n",
            " [5.1 2. ]\n",
            " [5.3 1.9]\n",
            " [5.5 2.1]\n",
            " [5.  2. ]\n",
            " [5.1 2.4]\n",
            " [5.3 2.3]\n",
            " [5.5 1.8]\n",
            " [6.7 2.2]\n",
            " [6.9 2.3]\n",
            " [5.  1.5]\n",
            " [5.7 2.3]\n",
            " [4.9 2. ]\n",
            " [6.7 2. ]\n",
            " [4.9 1.8]\n",
            " [5.7 2.1]\n",
            " [6.  1.8]\n",
            " [4.8 1.8]\n",
            " [4.9 1.8]\n",
            " [5.6 2.1]\n",
            " [5.8 1.6]\n",
            " [6.1 1.9]\n",
            " [6.4 2. ]\n",
            " [5.6 2.2]\n",
            " [5.1 1.5]\n",
            " [5.6 1.4]\n",
            " [6.1 2.3]\n",
            " [5.6 2.4]\n",
            " [5.5 1.8]\n",
            " [4.8 1.8]\n",
            " [5.4 2.1]]\n",
            "(40, 2)\n"
          ],
          "name": "stdout"
        }
      ]
    },
    {
      "cell_type": "code",
      "metadata": {
        "id": "VD4zUFFV4PYu",
        "colab_type": "code",
        "colab": {
          "resources": {
            "http://localhost:8080/nbextensions/google.colab/files.js": {
              "data": "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",
              "ok": true,
              "headers": [
                [
                  "content-type",
                  "application/javascript"
                ]
              ],
              "status": 200,
              "status_text": ""
            }
          },
          "base_uri": "https://localhost:8080/",
          "height": 75
        },
        "outputId": "9c50fea9-0c74-46e8-f4d9-fe2b969eb746"
      },
      "source": [
        "from google.colab import files\n",
        "uploaded = files.upload()"
      ],
      "execution_count": 35,
      "outputs": [
        {
          "output_type": "display_data",
          "data": {
            "text/html": [
              "\n",
              "     <input type=\"file\" id=\"files-fc9c6446-e83c-463b-804f-7b4a935e3e14\" name=\"files[]\" multiple disabled />\n",
              "     <output id=\"result-fc9c6446-e83c-463b-804f-7b4a935e3e14\">\n",
              "      Upload widget is only available when the cell has been executed in the\n",
              "      current browser session. Please rerun this cell to enable.\n",
              "      </output>\n",
              "      <script src=\"/nbextensions/google.colab/files.js\"></script> "
            ],
            "text/plain": [
              "<IPython.core.display.HTML object>"
            ]
          },
          "metadata": {
            "tags": []
          }
        },
        {
          "output_type": "stream",
          "text": [
            "Saving matches.csv to matches.csv\n"
          ],
          "name": "stdout"
        }
      ]
    },
    {
      "cell_type": "code",
      "metadata": {
        "id": "tSxs_IU11nDn",
        "colab_type": "code",
        "colab": {
          "base_uri": "https://localhost:8080/",
          "height": 474
        },
        "outputId": "989f7be6-340f-4323-a3d7-825b192d1dee"
      },
      "source": [
        "import pandas as pd\n",
        "\n",
        "df = pd.read_csv('matches.csv')\n",
        "\n",
        "print(df.shape)\n",
        "print(df.columns)\n",
        "print(list(df.index)[:10])\n",
        "df.head()\n",
        "\n",
        "df[df['city']=='Bangalore']['winner']\n",
        "df[df['season'].isin([2008,2015])] [['season','toss_winner']]\n",
        "df['winner'].value_counts()\n",
        "df['winner'].isnull().sum()\n",
        "\n",
        "df.reset_index(inplace=True)\n",
        "df.set_index('date', inplace=True)\n",
        "df.iloc[0:10]\n",
        "df.loc['2008-04-18']\n",
        "df['winner'].isnull().sum()\n",
        "df['winner'].fillna('bfill', inplace=True)\n",
        "df.isnull().sum()"
      ],
      "execution_count": 74,
      "outputs": [
        {
          "output_type": "stream",
          "text": [
            "(577, 18)\n",
            "Index(['id', 'season', 'city', 'date', 'team1', 'team2', 'toss_winner',\n",
            "       'toss_decision', 'result', 'dl_applied', 'winner', 'win_by_runs',\n",
            "       'win_by_wickets', 'player_of_match', 'venue', 'umpire1', 'umpire2',\n",
            "       'umpire3'],\n",
            "      dtype='object')\n",
            "[0, 1, 2, 3, 4, 5, 6, 7, 8, 9]\n"
          ],
          "name": "stdout"
        },
        {
          "output_type": "execute_result",
          "data": {
            "text/plain": [
              "index                0\n",
              "id                   0\n",
              "season               0\n",
              "city                 7\n",
              "team1                0\n",
              "team2                0\n",
              "toss_winner          0\n",
              "toss_decision        0\n",
              "result               0\n",
              "dl_applied           0\n",
              "winner               0\n",
              "win_by_runs          0\n",
              "win_by_wickets       0\n",
              "player_of_match      3\n",
              "venue                0\n",
              "umpire1              0\n",
              "umpire2              0\n",
              "umpire3            577\n",
              "dtype: int64"
            ]
          },
          "metadata": {
            "tags": []
          },
          "execution_count": 74
        }
      ]
    },
    {
      "cell_type": "code",
      "metadata": {
        "id": "MYLi1DXKWPdg",
        "colab_type": "code",
        "colab": {
          "base_uri": "https://localhost:8080/",
          "height": 474
        },
        "outputId": "95b2ff41-801d-46c8-e3ce-4f3968a58523"
      },
      "source": [
        "df1 = pd.DataFrame({'metal':['steel','copper','wood'], 'YM':[200,100,50], 'Ductile':[True, True, False]}, index = ['m1', 'm2', 'm3'])\n",
        "#df1.insert(loc=3, column='m4', value=['cement', 0.1, False])\n",
        "df1.loc['m4'] = ['cement', 0.1, False]\n",
        "#df1.loc['m4'] = ['cement', 0.1, False]\n",
        "#df1.drop('m4', 0)\n",
        "#df1\n",
        "df2 = pd.DataFrame({'metal':['steel','copper','wood'], 'YM':[200,100,50], 'UTS (Mpa)':[400, 300, 100]}, index = ['me1', 'me2', 'me3'])\n",
        "df2\n",
        "dfcon = pd.concat([df1, df2], sort=False)\n",
        "print (dfcon)\n",
        "\n",
        "print(df1)\n",
        "print(df2)\n",
        "print(pd.merge(df1,df2, on = 'metal', how = 'outer'))\n",
        "print(pd.merge(df2,df1, on = 'metal', how = 'inner'))\n"
      ],
      "execution_count": 148,
      "outputs": [
        {
          "output_type": "stream",
          "text": [
            "      metal     YM Ductile  UTS (Mpa)\n",
            "m1    steel  200.0    True        NaN\n",
            "m2   copper  100.0    True        NaN\n",
            "m3     wood   50.0   False        NaN\n",
            "m4   cement    0.1   False        NaN\n",
            "me1   steel  200.0     NaN      400.0\n",
            "me2  copper  100.0     NaN      300.0\n",
            "me3    wood   50.0     NaN      100.0\n",
            "     metal     YM  Ductile\n",
            "m1   steel  200.0     True\n",
            "m2  copper  100.0     True\n",
            "m3    wood   50.0    False\n",
            "m4  cement    0.1    False\n",
            "      metal   YM  UTS (Mpa)\n",
            "me1   steel  200        400\n",
            "me2  copper  100        300\n",
            "me3    wood   50        100\n",
            "    metal   YM_x  Ductile   YM_y  UTS (Mpa)\n",
            "0   steel  200.0     True  200.0      400.0\n",
            "1  copper  100.0     True  100.0      300.0\n",
            "2    wood   50.0    False   50.0      100.0\n",
            "3  cement    0.1    False    NaN        NaN\n",
            "    metal  YM_x  UTS (Mpa)   YM_y  Ductile\n",
            "0   steel   200        400  200.0     True\n",
            "1  copper   100        300  100.0     True\n",
            "2    wood    50        100   50.0    False\n"
          ],
          "name": "stdout"
        }
      ]
    },
    {
      "cell_type": "code",
      "metadata": {
        "id": "w2tYpBXfmUbZ",
        "colab_type": "code",
        "colab": {
          "resources": {
            "http://localhost:8080/nbextensions/google.colab/files.js": {
              "data": "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",
              "ok": true,
              "headers": [
                [
                  "content-type",
                  "application/javascript"
                ]
              ],
              "status": 200,
              "status_text": ""
            }
          },
          "base_uri": "https://localhost:8080/",
          "height": 110
        },
        "outputId": "f7895cb7-7f2a-44c3-a590-84f350868125"
      },
      "source": [
        "from google.colab import files\n",
        "uploaded = files.upload()"
      ],
      "execution_count": 150,
      "outputs": [
        {
          "output_type": "display_data",
          "data": {
            "text/html": [
              "\n",
              "     <input type=\"file\" id=\"files-454de841-50c7-44d7-a073-2e181a629e30\" name=\"files[]\" multiple disabled />\n",
              "     <output id=\"result-454de841-50c7-44d7-a073-2e181a629e30\">\n",
              "      Upload widget is only available when the cell has been executed in the\n",
              "      current browser session. Please rerun this cell to enable.\n",
              "      </output>\n",
              "      <script src=\"/nbextensions/google.colab/files.js\"></script> "
            ],
            "text/plain": [
              "<IPython.core.display.HTML object>"
            ]
          },
          "metadata": {
            "tags": []
          }
        },
        {
          "output_type": "stream",
          "text": [
            "Saving road_accidents.csv to road_accidents.csv\n",
            "Saving roads.csv to roads.csv\n"
          ],
          "name": "stdout"
        }
      ]
    },
    {
      "cell_type": "code",
      "metadata": {
        "id": "ZaQic7CLnRbG",
        "colab_type": "code",
        "colab": {
          "base_uri": "https://localhost:8080/",
          "height": 950
        },
        "outputId": "22750dab-635a-43e1-befc-fcb573386151"
      },
      "source": [
        "import pandas as pd\n",
        "\n",
        "accidents = pd.read_csv('road_accidents.csv')\n",
        "roads = pd.read_csv('roads.csv')\n",
        "\n",
        "print (accidents.shape)\n",
        "print (roads.shape)\n",
        "print (accidents.head())\n",
        "print (roads.head())\n",
        "\n",
        "roads.drop(['Category','Total'], 1, inplace = True)\n",
        "\n",
        "accidentsSub = accidents[['States/UTs', '2012', '2013', '2014']]\n",
        "\n",
        "print(pd.merge(roads, accidentsSub, on = 'States/UTs', how = 'inner'))"
      ],
      "execution_count": 173,
      "outputs": [
        {
          "output_type": "stream",
          "text": [
            "(37, 11)\n",
            "(31, 4)\n",
            "          States/UTs     2006     2007     2008     2009     2010     2011  \\\n",
            "0     Andhra Pradesh  17468.0  18859.0  15320.0  17465.0  17996.0  19081.0   \n",
            "1  Arunachal Pradesh    177.0    110.0    212.0    138.0    165.0    140.0   \n",
            "2              Assam   2575.0   2579.0   2776.0   2938.0   3741.0   3951.0   \n",
            "3              Bihar   2048.0   2677.0   3661.0   3968.0   3908.0   4746.0   \n",
            "4       Chhattisgarh   5883.0   5492.0   5849.0   5616.0   6341.0   6402.0   \n",
            "\n",
            "      2012     2013  2014  2015  \n",
            "0  14578.0  17355.0  7815  7263  \n",
            "1    147.0    242.0   149   184  \n",
            "2   4174.0   4112.0  4186  4121  \n",
            "3   5124.0   4470.0  4580  4250  \n",
            "4   6183.0   5824.0  6049  6072  \n",
            "  Category         States/UTs     Total  Surfaced\n",
            "0   States     Andhra Pradesh  168516.0     93573\n",
            "1   States  Arunachal Pradesh    5262.0      5262\n",
            "2   States              Assam  222087.0     27622\n",
            "3   States              Bihar  167579.0     94421\n",
            "4   States       Chhattisgarh   30295.0     30295\n",
            "                   States/UTs  Surfaced      2012      2013    2014\n",
            "0              Andhra Pradesh     93573   14578.0   17355.0    7815\n",
            "1           Arunachal Pradesh      5262     147.0     242.0     149\n",
            "2                       Assam     27622    4174.0    4112.0    4186\n",
            "3                       Bihar     94421    5124.0    4470.0    4580\n",
            "4                Chhattisgarh     30295    6183.0    5824.0    6049\n",
            "5                         Goa      3221    1752.0    1920.0    1904\n",
            "6                     Gujarat     50621   10382.0    9434.0    8597\n",
            "7                     Haryana      4622    3221.0    3485.0    3628\n",
            "8            Himachal Pradesh     14714    1012.0    1093.0    1138\n",
            "9             Jammu & Kashmir     12404    2540.0    2601.0    2421\n",
            "10                  Jharkhand     17097    2496.0    2546.0    2547\n",
            "11                  Karnataka     90260   17797.0   18541.0   16617\n",
            "12                     Kerala     79354   14147.0   13775.0   14171\n",
            "13             Madhya Pradesh     75718   26726.0   26253.0   27474\n",
            "14                Maharashtra    193806   38227.0   36069.0   36473\n",
            "15                    Manipur      3919     502.0     246.0     166\n",
            "16                  Meghalaya      1194     354.0     346.0     311\n",
            "17                    Mizoram      2561      47.0      46.0      70\n",
            "18                   Nagaland     10930      32.0      50.0     248\n",
            "19                     Odisha    213446    4378.0    4500.0    4405\n",
            "20                     Punjab     62900    2175.0    2404.0    2641\n",
            "21                  Rajasthan     67313    8407.0    8653.0    8964\n",
            "22                     Sikkim      3343      53.0      80.0     146\n",
            "23                 Tamil Nadu    107803   28224.0   27333.0   24869\n",
            "24                    Tripura      8976     377.0     398.0     325\n",
            "25                Uttarakhand      6933     796.0     649.0     735\n",
            "26              Uttar Pradesh     79446   15715.0   15964.0   18605\n",
            "27                West Bengal     38156    6025.0    5694.0    6892\n",
            "28  Andaman & Nicobar Islands       111      74.0      61.0     131\n",
            "29                 Chandigarh       967     367.0     327.0     336\n",
            "30                  All India   1400988  223933.0  222883.0  226415\n"
          ],
          "name": "stdout"
        }
      ]
    },
    {
      "cell_type": "code",
      "metadata": {
        "id": "0oZygG6Exs17",
        "colab_type": "code",
        "colab": {
          "base_uri": "https://localhost:8080/",
          "height": 1064
        },
        "outputId": "f7851f1d-11ea-4769-f5f8-0a1b0408f892"
      },
      "source": [
        "import pandas as pd\n",
        "import numpy as np\n",
        "import matplotlib.pyplot as plt\n",
        "import seaborn as sns\n",
        "import statsmodels.api as sm\n",
        "\n",
        "cars = sm.datasets.get_rdataset('mtcars').data\n",
        "print(cars.head(4).T)\n",
        "print(cars.info())\n",
        "\n",
        "sns.regplot(x=cars.mpg, y=cars.wt, ci = 95)\n",
        "\n",
        "corcoef = np.corrcoef(cars.mpg, cars.wt)[0,1]\n",
        "\n",
        "text_cc = '\\n\\n\\n\\nCorrelation Coeffient is %1.4f' %corcoef\n",
        "plt.title('Scatter plot MPG Vs Weight')\n",
        "plt.suptitle(text_cc)\n",
        "plt.gcf().tight_layout()\n",
        "plt.show()\n",
        "sns.heatmap(cars.corr(), cmap='BuGn')\n",
        "\n",
        "plt.show()"
      ],
      "execution_count": 185,
      "outputs": [
        {
          "output_type": "stream",
          "text": [
            "      Mazda RX4  Mazda RX4 Wag  Datsun 710  Hornet 4 Drive\n",
            "mpg       21.00         21.000       22.80          21.400\n",
            "cyl        6.00          6.000        4.00           6.000\n",
            "disp     160.00        160.000      108.00         258.000\n",
            "hp       110.00        110.000       93.00         110.000\n",
            "drat       3.90          3.900        3.85           3.080\n",
            "wt         2.62          2.875        2.32           3.215\n",
            "qsec      16.46         17.020       18.61          19.440\n",
            "vs         0.00          0.000        1.00           1.000\n",
            "am         1.00          1.000        1.00           0.000\n",
            "gear       4.00          4.000        4.00           3.000\n",
            "carb       4.00          4.000        1.00           1.000\n",
            "<class 'pandas.core.frame.DataFrame'>\n",
            "Index: 32 entries, Mazda RX4 to Volvo 142E\n",
            "Data columns (total 11 columns):\n",
            "mpg     32 non-null float64\n",
            "cyl     32 non-null int64\n",
            "disp    32 non-null float64\n",
            "hp      32 non-null int64\n",
            "drat    32 non-null float64\n",
            "wt      32 non-null float64\n",
            "qsec    32 non-null float64\n",
            "vs      32 non-null int64\n",
            "am      32 non-null int64\n",
            "gear    32 non-null int64\n",
            "carb    32 non-null int64\n",
            "dtypes: float64(5), int64(6)\n",
            "memory usage: 3.0+ KB\n",
            "None\n"
          ],
          "name": "stdout"
        },
        {
          "output_type": "display_data",
          "data": {
            "image/png": "[encoded data removed]",
            "text/plain": [
              "<Figure size 432x288 with 1 Axes>"
            ]
          },
          "metadata": {
            "tags": []
          }
        },
        {
          "output_type": "display_data",
          "data": {
            "image/png": "[encoded data removed]",
            "text/plain": [
              "<Figure size 432x288 with 2 Axes>"
            ]
          },
          "metadata": {
            "tags": []
          }
        }
      ]
    },
    {
      "cell_type": "code",
      "metadata": {
        "id": "1k8ieA52_si8",
        "colab_type": "code",
        "colab": {
          "base_uri": "https://localhost:8080/",
          "height": 70
        },
        "outputId": "e7aa708b-9612-4fa6-8a8f-b01207509cb5"
      },
      "source": [
        "import statsmodels.api as sm\n",
        "X = cars.wt\n",
        "y = cars.mpg\n",
        "\n",
        "X = sm.add_constant(X)\n",
        "\n",
        "model = sm.OLS(y, X).fit()\n",
        "predictions = model.predict(X)\n",
        "\n",
        "model.summary()\n",
        "\n",
        "\n",
        "new_X = [1, 3.0]\n",
        "\n",
        "predictions = model.predict(new_X)\n",
        "print ('Predicted mpg of the car with weight %d (000 lbs) is %2.2f' % (3.0, np.round(predictions,3)))"
      ],
      "execution_count": 191,
      "outputs": [
        {
          "output_type": "stream",
          "text": [
            "Predicted mpg of the car with weight 3 (000 lbs) is 21.25\n"
          ],
          "name": "stdout"
        },
        {
          "output_type": "stream",
          "text": [
            "/usr/local/lib/python3.6/dist-packages/numpy/core/fromnumeric.py:2389: FutureWarning: Method .ptp is deprecated and will be removed in a future version. Use numpy.ptp instead.\n",
            "  return ptp(axis=axis, out=out, **kwargs)\n"
          ],
          "name": "stderr"
        }
      ]
    },
    {
      "cell_type": "code",
      "metadata": {
        "id": "_A0xckjWGeGM",
        "colab_type": "code",
        "colab": {
          "base_uri": "https://localhost:8080/",
          "height": 52
        },
        "outputId": "a2ffdb83-96e9-4104-b4ab-88d4e7da22ed"
      },
      "source": [
        "from sklearn import linear_model\n",
        "\n",
        "X = np.array(cars.wt).reshape(-1,1)\n",
        "y = cars.mpg\n",
        "lm = linear_model.LinearRegression()\n",
        "model = lm.fit(X, y)\n",
        "\n",
        "predictions = lm.predict(X)\n",
        "\n",
        "print('R square is %1.3f' %lm.score(X,y))\n",
        "new_X1 = np.array([3]).reshape(-1,1)\n",
        "predictions = lm.predict(new_X1)\n",
        "print ('Predicted mpg of the car with weight %d (000 lbs) is %2.2f' % (3.0, np.round(predictions,3)))"
      ],
      "execution_count": 201,
      "outputs": [
        {
          "output_type": "stream",
          "text": [
            "R square is 0.753\n",
            "Predicted mpg of the car with weight 3 (000 lbs) is 21.25\n"
          ],
          "name": "stdout"
        }
      ]
    }
  ]
}