{
  "nbformat": 4,
  "nbformat_minor": 0,
  "metadata": {
    "colab": {
      "name": "Machinelearning",
      "version": "0.3.2",
      "provenance": [],
      "collapsed_sections": [],
      "include_colab_link": true
    },
    "kernelspec": {
      "name": "python3",
      "display_name": "Python 3"
    }
  },
  "cells": [
    {
      "cell_type": "markdown",
      "metadata": {
        "id": "view-in-github",
        "colab_type": "text"
      },
      "source": [
        "<a href=\"https://colab.research.google.com/github/ChangappaMA/PyNLPTut/blob/master/Machinelearning.ipynb\" target=\"_parent\"><img src=\"https://colab.research.google.com/assets/colab-badge.svg\" alt=\"Open In Colab\"/></a>"
      ]
    },
    {
      "cell_type": "code",
      "metadata": {
        "id": "iBDfu4SonFMz",
        "colab_type": "code",
        "colab": {}
      },
      "source": [
        "print(\"Hello World\")"
      ],
      "execution_count": 0,
      "outputs": []
    },
    {
      "cell_type": "markdown",
      "metadata": {
        "id": "_g4ZnfVH6YfH",
        "colab_type": "text"
      },
      "source": [
        ""
      ]
    },
    {
      "cell_type": "code",
      "metadata": {
        "id": "uDJigOM66bw7",
        "colab_type": "code",
        "colab": {
          "base_uri": "https://localhost:8080/",
          "height": 52
        },
        "outputId": "13dca286-d052-4485-9f80-da4941c37d81"
      },
      "source": [
        "L1 =[2,4,6,8,10]\n",
        "L2 =[1,3,5,7,9]\n",
        "\n",
        "Sum = []\n",
        "mul = []\n",
        "\n",
        "for i in range(0,5):\n",
        "  Sum.append(L1[i]+L2[i])\n",
        "  mul.append(L2[i]*2)\n",
        "\n",
        "print (Sum)\n",
        "print (mul)\n"
      ],
      "execution_count": 22,
      "outputs": [
        {
          "output_type": "stream",
          "text": [
            "[3, 7, 11, 15, 19]\n",
            "[2, 6, 10, 14, 18]\n"
          ],
          "name": "stdout"
        }
      ]
    },
    {
      "cell_type": "code",
      "metadata": {
        "id": "rN_s49Oy_sht",
        "colab_type": "code",
        "colab": {
          "base_uri": "https://localhost:8080/",
          "height": 105
        },
        "outputId": "ff297e2c-2f61-4d34-b9e2-2a54bdb38144"
      },
      "source": [
        "angles = []\n",
        "subangles=[]\n",
        "\n",
        "\n",
        "\n",
        "for i in range(0, 390, 30):\n",
        "  angles.append(i)\n",
        "  \n",
        "subangles = angles[:].reverse()\n",
        "\n",
        "print(angles)\n",
        "print(subangles)\n",
        "i1 = angles.index(90)\n",
        "i2 = angles.index(270)\n",
        "print(i1,i2)\n",
        "\n",
        "lenangles = len(angles)\n",
        "print(lenangles)\n",
        "\n",
        "i1_rev = lenangles - i1\n",
        "i2_rev = lenangles - i2\n",
        "print(i1_rev, i2_rev)\n",
        "  \n",
        "  \n"
      ],
      "execution_count": 86,
      "outputs": [
        {
          "output_type": "stream",
          "text": [
            "[0, 30, 60, 90, 120, 150, 180, 210, 240, 270, 300, 330, 360]\n",
            "None\n",
            "3 9\n",
            "13\n",
            "10 4\n"
          ],
          "name": "stdout"
        }
      ]
    },
    {
      "cell_type": "code",
      "metadata": {
        "id": "7V_VbScfeCMP",
        "colab_type": "code",
        "colab": {
          "base_uri": "https://localhost:8080/",
          "height": 70
        },
        "outputId": "a9e53f74-4bf6-425e-bbf4-6939614b9cad"
      },
      "source": [
        "L1 = [2,4,6,8,10]\n",
        "\n",
        "L2 = L1\n",
        "L3 = L1.copy()\n",
        "\n",
        "del L3[2]\n",
        "\n",
        "print(L1)\n",
        "print(L3)\n"
      ],
      "execution_count": 51,
      "outputs": [
        {
          "output_type": "stream",
          "text": [
            "[2, 4, 6, 8, 10]\n",
            "[2, 4, 8, 10]\n"
          ],
          "name": "stdout"
        },
        {
          "output_type": "execute_result",
          "data": {
            "text/plain": [
              "<function abs>"
            ]
          },
          "metadata": {
            "tags": []
          },
          "execution_count": 51
        }
      ]
    },
    {
      "cell_type": "code",
      "metadata": {
        "id": "oBYystRenaK7",
        "colab_type": "code",
        "colab": {}
      },
      "source": [
        "import numpy as py\n",
        "import tensorflow as tf\n",
        "#import pytorch"
      ],
      "execution_count": 0,
      "outputs": []
    },
    {
      "cell_type": "code",
      "metadata": {
        "id": "ZMsKnxcqoqXW",
        "colab_type": "code",
        "colab": {
          "base_uri": "https://localhost:8080/",
          "height": 220
        },
        "outputId": "775c49ca-3f16-46fd-a47f-c604985825e5"
      },
      "source": [
        "examTuple = (1,2,3)\n",
        "\n",
        "examTuple += (4,)\n",
        "del examTuple[2]\n",
        "print(examTuple)"
      ],
      "execution_count": 61,
      "outputs": [
        {
          "output_type": "error",
          "ename": "TypeError",
          "evalue": "ignored",
          "traceback": [
            "\u001b[0;31m---------------------------------------------------------------------------\u001b[0m",
            "\u001b[0;31mTypeError\u001b[0m                                 Traceback (most recent call last)",
            "\u001b[0;32m<ipython-input-61-171b69341cf1>\u001b[0m in \u001b[0;36m<module>\u001b[0;34m()\u001b[0m\n\u001b[1;32m      2\u001b[0m \u001b[0;34m\u001b[0m\u001b[0m\n\u001b[1;32m      3\u001b[0m \u001b[0mexamTuple\u001b[0m \u001b[0;34m+=\u001b[0m \u001b[0;34m(\u001b[0m\u001b[0;36m4\u001b[0m\u001b[0;34m,\u001b[0m\u001b[0;34m)\u001b[0m\u001b[0;34m\u001b[0m\u001b[0;34m\u001b[0m\u001b[0m\n\u001b[0;32m----> 4\u001b[0;31m \u001b[0;32mdel\u001b[0m \u001b[0mexamTuple\u001b[0m\u001b[0;34m[\u001b[0m\u001b[0;36m2\u001b[0m\u001b[0;34m]\u001b[0m\u001b[0;34m\u001b[0m\u001b[0;34m\u001b[0m\u001b[0m\n\u001b[0m\u001b[1;32m      5\u001b[0m \u001b[0mprint\u001b[0m\u001b[0;34m(\u001b[0m\u001b[0mexamTuple\u001b[0m\u001b[0;34m)\u001b[0m\u001b[0;34m\u001b[0m\u001b[0;34m\u001b[0m\u001b[0m\n",
            "\u001b[0;31mTypeError\u001b[0m: 'tuple' object doesn't support item deletion"
          ]
        }
      ]
    },
    {
      "cell_type": "code",
      "metadata": {
        "id": "KMiIWA26yHCV",
        "colab_type": "code",
        "colab": {
          "base_uri": "https://localhost:8080/",
          "height": 52
        },
        "outputId": "eeb5897d-5fd1-4b3d-e0ae-89aeb1fe5b44"
      },
      "source": [
        "States = {'Andhra Pradesh' : [4900000, 'Hydrabad', True], 'Assam' : [50000, 'Dispur', False], 'Bihar': [600000, 'Patna', True]}\n",
        "\n",
        "print(States['Bihar'])\n",
        "\n",
        "States['Telangana'] = [500000, 'Hydrabad', False]\n",
        "\n",
        "print(States)\n"
      ],
      "execution_count": 69,
      "outputs": [
        {
          "output_type": "stream",
          "text": [
            "[600000, 'Patna', True]\n",
            "{'Andhra Pradesh': [4900000, 'Hydrabad', True], 'Assam': [50000, 'Dispur', False], 'Bihar': [600000, 'Patna', True], 'Telangana': [500000, 'Hydrabad', False]}\n"
          ],
          "name": "stdout"
        }
      ]
    },
    {
      "cell_type": "code",
      "metadata": {
        "id": "n5Q2esCu9XCd",
        "colab_type": "code",
        "colab": {
          "base_uri": "https://localhost:8080/",
          "height": 52
        },
        "outputId": "e1a4d779-294f-4c09-906f-1cdd1a5fe7b0"
      },
      "source": [
        "def deg_rad(angle):\n",
        "  radians = (angle * 3.14) / 180\n",
        "  return (radians)\n",
        "\n",
        "\n",
        "\n",
        "print(deg_rad(360))\n",
        "\n",
        "deg_rad_inline = lambda angle,rotate: angle/180*3.14+rotate\n",
        "\n",
        "deg_rad_inline(30, deg_rad(90))\n"
      ],
      "execution_count": 102,
      "outputs": [
        {
          "output_type": "stream",
          "text": [
            "6.28\n"
          ],
          "name": "stdout"
        },
        {
          "output_type": "execute_result",
          "data": {
            "text/plain": [
              "2.0933333333333333"
            ]
          },
          "metadata": {
            "tags": []
          },
          "execution_count": 102
        }
      ]
    }
  ]
}